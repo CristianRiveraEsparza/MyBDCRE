{
 "cells": [
  {
   "cell_type": "markdown",
   "id": "675f8fee",
   "metadata": {},
   "source": [
    "# Capítulo 7. Procesamiento de Lenguaje Natural"
   ]
  },
  {
   "cell_type": "markdown",
   "id": "61b20c62",
   "metadata": {},
   "source": [
    "## <span style=\"color:green\">0. Preparar el libro de trabajo </span>\n"
   ]
  },
  {
   "cell_type": "code",
   "execution_count": 1,
   "id": "ac03df12-ec06-4764-a2b5-40f184dc6af5",
   "metadata": {},
   "outputs": [],
   "source": [
    "#Importaciones comunes"
   ]
  },
  {
   "cell_type": "code",
   "execution_count": 2,
   "id": "ea5e3b1b-79a5-492b-95e3-686dc2d99738",
   "metadata": {},
   "outputs": [],
   "source": [
    "#Importar TF y Keras"
   ]
  },
  {
   "cell_type": "code",
   "execution_count": 3,
   "id": "4cfe8bc5-25b9-4966-ab57-bce525de103f",
   "metadata": {},
   "outputs": [],
   "source": [
    "#Preparar Matplotlib"
   ]
  },
  {
   "cell_type": "code",
   "execution_count": 4,
   "id": "a466e530-ac10-41b1-bb71-02ad06fe666c",
   "metadata": {},
   "outputs": [],
   "source": [
    "#Semillas a 42"
   ]
  },
  {
   "cell_type": "code",
   "execution_count": 5,
   "id": "b0df0182-8c2c-4052-b292-f5bfa6f6e60d",
   "metadata": {},
   "outputs": [],
   "source": [
    "#Print de versión"
   ]
  },
  {
   "cell_type": "markdown",
   "id": "7c31323f-5a9d-4c54-aab6-ecc9b938911d",
   "metadata": {},
   "source": [
    "## <span style=\"color:green\">1. Cargar el set de Datos e importar el dataset</span>"
   ]
  },
  {
   "cell_type": "code",
   "execution_count": 6,
   "id": "231f2d47-c1b4-40b4-9da7-0a39e0099948",
   "metadata": {},
   "outputs": [],
   "source": [
    "#Carga los datos a tu archivo de texto"
   ]
  },
  {
   "cell_type": "code",
   "execution_count": 7,
   "id": "4b0f3875-85c6-47ca-b8f7-a7c075382b4f",
   "metadata": {},
   "outputs": [],
   "source": [
    "#Imprime algún texto aleatorio del archivo (como el 147)"
   ]
  },
  {
   "cell_type": "code",
   "execution_count": 8,
   "id": "f1de44f9-4adc-4e2f-b721-7741a8eea9ac",
   "metadata": {},
   "outputs": [],
   "source": [
    "#Vamos viendo todos los caracters de \"minúsculas\" que trae el archivo"
   ]
  },
  {
   "cell_type": "code",
   "execution_count": 9,
   "id": "440228ef-4094-4b2a-bed2-fe89c3ea8254",
   "metadata": {},
   "outputs": [],
   "source": [
    "#Vamos a usar la capa de TextVectorization para mapear el quijote a caracteres"
   ]
  },
  {
   "cell_type": "code",
   "execution_count": 10,
   "id": "c39a6a92-0553-4be4-bbf9-4dd6f0a4533e",
   "metadata": {},
   "outputs": [],
   "source": [
    "#Computa el vocabulario de términos de String sobre el quijote"
   ]
  },
  {
   "cell_type": "code",
   "execution_count": 11,
   "id": "3408d99c-e0fa-4894-a8bd-5239e5672bc2",
   "metadata": {},
   "outputs": [],
   "source": [
    "#Abandona los tokens 0 y 1 (padding), no los usaremos"
   ]
  },
  {
   "cell_type": "code",
   "execution_count": 12,
   "id": "d963cc82-05bc-4ba4-8bba-7dbf2800317b",
   "metadata": {},
   "outputs": [],
   "source": [
    "#Número total de caracteres distintos"
   ]
  },
  {
   "cell_type": "code",
   "execution_count": 13,
   "id": "2f33943a-cf85-41b4-8339-3669fcf8a2df",
   "metadata": {},
   "outputs": [],
   "source": [
    "#Número total de caracteres en total"
   ]
  },
  {
   "cell_type": "code",
   "execution_count": 14,
   "id": "4c89b3a9-d5e2-4ac2-8a7e-6b00e3c9009e",
   "metadata": {},
   "outputs": [],
   "source": [
    "#Usemos la clase de tokenizer de keras para codificar cada caracter como entero\n"
   ]
  },
  {
   "cell_type": "markdown",
   "id": "cc3f6b8c-330b-467d-8686-6f25f3c648ec",
   "metadata": {},
   "source": [
    "## <span style=\"color:green\">2. Separar el set en entrenamientos, pruebas y validación</span> ### "
   ]
  },
  {
   "cell_type": "code",
   "execution_count": 15,
   "id": "c895cf80-8ffd-4904-bd2c-11a6f537a3a2",
   "metadata": {},
   "outputs": [],
   "source": [
    "#Crea una función que va a convertir el quijote en un dataset barajeado"
   ]
  },
  {
   "cell_type": "code",
   "execution_count": 16,
   "id": "4860e52a-53f9-416e-90fd-83cadbed5481",
   "metadata": {},
   "outputs": [],
   "source": [
    "#Vamos a dividir el dataset en Train, valid y test usando la función anterior"
   ]
  },
  {
   "cell_type": "code",
   "execution_count": 17,
   "id": "16c7d29e-7e21-4400-a0ca-ccf590ac12b3",
   "metadata": {},
   "outputs": [],
   "source": [
    "#Creamos un modelo sencillo"
   ]
  },
  {
   "cell_type": "code",
   "execution_count": 18,
   "id": "f3b241df-0057-4433-940e-0719eb700cb1",
   "metadata": {},
   "outputs": [],
   "source": [
    "#Compilamos "
   ]
  },
  {
   "cell_type": "code",
   "execution_count": 19,
   "id": "8a673b24-074b-482e-b2fa-ded2d6fc4c47",
   "metadata": {},
   "outputs": [],
   "source": [
    "#Dado que el modelo es tan grande, vamos a necesitar checkpoints"
   ]
  },
  {
   "cell_type": "code",
   "execution_count": 20,
   "id": "da3ea9ed-4a67-4fdc-a25d-c434fd36645c",
   "metadata": {},
   "outputs": [],
   "source": [
    "#Arma el checkpoint para guardar el modelo del quijote\n"
   ]
  },
  {
   "cell_type": "markdown",
   "id": "705e8b13-3b33-4ea3-899e-ce2adc0bfdf6",
   "metadata": {},
   "source": [
    "## <span style=\"color:green\">3. Construir y Entrenar el modelo Char-RNN</span>"
   ]
  },
  {
   "cell_type": "code",
   "execution_count": 21,
   "id": "ac9108d6-4b16-49e6-a4b8-971b7adef276",
   "metadata": {},
   "outputs": [],
   "source": [
    "#Ejecutamos el modelo. Nota que se puede tomar hasta 10 minutos por epoca, tal vez más"
   ]
  },
  {
   "cell_type": "code",
   "execution_count": 22,
   "id": "94ebe5a0-9c75-41f5-8e7e-6d014ff2c56e",
   "metadata": {},
   "outputs": [],
   "source": [
    "# Código para cargar el modelo ya entrenado (por si no lo quisiste entrenar)"
   ]
  },
  {
   "cell_type": "code",
   "execution_count": 23,
   "id": "40687604-f4f7-4f34-ac30-b6e3d596d8af",
   "metadata": {},
   "outputs": [],
   "source": [
    "#Código para armar el modelo final"
   ]
  },
  {
   "cell_type": "markdown",
   "id": "d35e604f-2653-45ab-9a9d-453bb5558f95",
   "metadata": {},
   "source": [
    "## <span style=\"color:green\">4. Generando Texto Falso</span>  "
   ]
  },
  {
   "cell_type": "code",
   "execution_count": 24,
   "id": "501f1d01-ab76-4b77-8dec-abb8bae4e0f2",
   "metadata": {},
   "outputs": [],
   "source": [
    "#Creamos una función llamada next char para crear texto nuevo "
   ]
  },
  {
   "cell_type": "code",
   "execution_count": 25,
   "id": "867c3888-b8fd-452d-b79f-d6440bec50ad",
   "metadata": {},
   "outputs": [],
   "source": [
    "#Creamos una función llamada extend_text para crear la secuencia completa"
   ]
  },
  {
   "cell_type": "code",
   "execution_count": 26,
   "id": "6b1052d2-3d4d-4c60-9461-d2ed69e2fb42",
   "metadata": {},
   "outputs": [],
   "source": [
    "#Cambia la semilla a 42"
   ]
  },
  {
   "cell_type": "code",
   "execution_count": 27,
   "id": "e238338f-d1f2-49a4-8380-6f3b3fad67b2",
   "metadata": {},
   "outputs": [],
   "source": [
    "#Probamos nuestra función nueva"
   ]
  },
  {
   "cell_type": "code",
   "execution_count": 28,
   "id": "73b03b7f-4f4a-455d-b14f-636a1fff5d04",
   "metadata": {},
   "outputs": [],
   "source": [
    "#Prueba 2"
   ]
  },
  {
   "cell_type": "code",
   "execution_count": 29,
   "id": "2fc71c47-bb3c-4e80-bb5c-d9e7b2303862",
   "metadata": {},
   "outputs": [],
   "source": [
    "#Prueba 3"
   ]
  },
  {
   "cell_type": "markdown",
   "id": "9e58472d-6a9e-4ddc-bec0-58d1c7b249d6",
   "metadata": {},
   "source": [
    "## <span style=\"color:green\">5. Stateful RNN</span>"
   ]
  },
  {
   "cell_type": "code",
   "execution_count": 30,
   "id": "734b47e7-b7db-4d19-860d-c0d85ea79581",
   "metadata": {},
   "outputs": [],
   "source": [
    "#Comenzamos definiendo una función que prepara el dataset para nuestro stateful RNN"
   ]
  },
  {
   "cell_type": "code",
   "execution_count": 31,
   "id": "d368933d-ac98-461b-91c3-a7c7a8ee4657",
   "metadata": {},
   "outputs": [],
   "source": [
    "#Ahora separamos en train, valid y test"
   ]
  },
  {
   "cell_type": "code",
   "execution_count": 32,
   "id": "3eb04013-5df4-4661-a0cd-30a6efcd7d2e",
   "metadata": {},
   "outputs": [],
   "source": [
    "#OK sigue aplicar el modelo secuencial en keras - embedding, GRU, Dense"
   ]
  },
  {
   "cell_type": "code",
   "execution_count": 33,
   "id": "f89a1e90-3c7b-42e6-8ce3-063fd0f91fed",
   "metadata": {},
   "outputs": [],
   "source": [
    "#Al final de cada epoca debemos resetear los estados antes de vovler al inicio del texto"
   ]
  },
  {
   "cell_type": "code",
   "execution_count": 34,
   "id": "5769ac29-7113-4695-bb68-a6d2c2963293",
   "metadata": {},
   "outputs": [],
   "source": [
    "#Usa una celda diferente para guardar los checkpoints"
   ]
  },
  {
   "cell_type": "code",
   "execution_count": 35,
   "id": "0d58a488-761b-4a1c-a7b5-9b0b82ea5e18",
   "metadata": {},
   "outputs": [],
   "source": [
    "#Y ahora compilamos y Ejecutamos el modelo"
   ]
  },
  {
   "cell_type": "code",
   "execution_count": 36,
   "id": "c322f891-6fc6-46f3-80a6-fae159456719",
   "metadata": {},
   "outputs": [],
   "source": [
    "#Y ahora compilamos y ajustamos el modelo"
   ]
  },
  {
   "cell_type": "markdown",
   "id": "1def0f5c-f460-43b9-aa00-1d7f1eaf4183",
   "metadata": {},
   "source": [
    "## <span style=\"color:green\">6. Sentiment Analysis</span>"
   ]
  },
  {
   "cell_type": "code",
   "execution_count": 37,
   "id": "04c1b62e-a7aa-480e-85a0-8c02d6bdbf66",
   "metadata": {},
   "outputs": [],
   "source": [
    "#Importa Tensroflow Datasetse como tfds"
   ]
  },
  {
   "cell_type": "code",
   "execution_count": 38,
   "id": "af7c6c78-aec7-46ac-8000-eb7c613afabf",
   "metadata": {},
   "outputs": [],
   "source": [
    "#Carga los datos de train, valid y test"
   ]
  },
  {
   "cell_type": "code",
   "execution_count": 39,
   "id": "d850913b-bf17-43be-95fe-1862b31acdb4",
   "metadata": {},
   "outputs": [],
   "source": [
    "#Arma el dataset de train - barajea con buffer de 5000, bachealo con 32 y prefecth"
   ]
  },
  {
   "cell_type": "code",
   "execution_count": 40,
   "id": "06439b11-1259-4d54-b68f-fd81b9bd26f7",
   "metadata": {},
   "outputs": [],
   "source": [
    "#Validación y test con batch de 32 y prefetch"
   ]
  },
  {
   "cell_type": "code",
   "execution_count": 41,
   "id": "c4912321-2f59-4a6b-bcbf-acd085c6e7ba",
   "metadata": {},
   "outputs": [],
   "source": [
    "#Vamos viendo unos reviews de muestra - arma un loop que agarre 4 reviews y las decodifique"
   ]
  },
  {
   "cell_type": "code",
   "execution_count": 42,
   "id": "a50bbac9-66ab-4d33-b223-4c2b340e97b3",
   "metadata": {},
   "outputs": [],
   "source": [
    "#Define 1000 como tamaño de vocabulario"
   ]
  },
  {
   "cell_type": "code",
   "execution_count": 43,
   "id": "432ee088-12f7-4a5c-9daa-2b20a0a6c11c",
   "metadata": {},
   "outputs": [],
   "source": [
    "#Arma tu capa de textVectorization"
   ]
  },
  {
   "cell_type": "code",
   "execution_count": 44,
   "id": "d99fbb39-2245-4d62-949e-05e978692c1d",
   "metadata": {},
   "outputs": [],
   "source": [
    "#Aplica tu .adapt"
   ]
  },
  {
   "cell_type": "code",
   "execution_count": 45,
   "id": "6be85601-b010-4468-beb6-5dff6c0128b8",
   "metadata": {},
   "outputs": [],
   "source": [
    "#Arma el modelo, capa de text_vec_layer, embedding, GRU y dense, embedding de 128"
   ]
  },
  {
   "cell_type": "code",
   "execution_count": 46,
   "id": "b16b9063-e9ad-4209-833f-c798222eeee5",
   "metadata": {},
   "outputs": [],
   "source": [
    "#Compila con crossentropy binaria y nadam"
   ]
  },
  {
   "cell_type": "code",
   "execution_count": 47,
   "id": "c4ff9a19-b215-42f5-a813-c30f8d860d86",
   "metadata": {},
   "outputs": [],
   "source": [
    "#Ejecuta tu modelo"
   ]
  },
  {
   "cell_type": "code",
   "execution_count": 48,
   "id": "e4a9a70d-4a98-45f1-8526-04a613655c5a",
   "metadata": {},
   "outputs": [],
   "source": [
    "#Evalúa tu modelo"
   ]
  },
  {
   "cell_type": "code",
   "execution_count": 49,
   "id": "cc9354f0-23da-41f7-8151-b7a2be3a2883",
   "metadata": {},
   "outputs": [],
   "source": [
    "#Predice un test set"
   ]
  },
  {
   "cell_type": "code",
   "execution_count": 50,
   "id": "5fcccae3-ad95-407e-b5f3-0cab5cfeaf99",
   "metadata": {},
   "outputs": [],
   "source": [
    "#Checa los resultados que si eran de verad"
   ]
  },
  {
   "cell_type": "markdown",
   "id": "6390b176-6adc-4e8e-853d-25dbcf18873d",
   "metadata": {},
   "source": [
    "### <span style=\"color:blue\">6.1 Masking</span>"
   ]
  },
  {
   "cell_type": "code",
   "execution_count": 51,
   "id": "7da9d46d-64df-42d5-ab60-842b48b8d4ae",
   "metadata": {},
   "outputs": [],
   "source": [
    "#Arma tu modelo con Masking"
   ]
  },
  {
   "cell_type": "code",
   "execution_count": 52,
   "id": "a2daef23-db09-4b02-a9c2-c65a7ad7f788",
   "metadata": {},
   "outputs": [],
   "source": [
    "#Compilalo"
   ]
  },
  {
   "cell_type": "code",
   "execution_count": 53,
   "id": "7b0b1896-97d3-419e-ba0d-4f74c9ced7c6",
   "metadata": {},
   "outputs": [],
   "source": [
    "#Ajustalo"
   ]
  },
  {
   "cell_type": "code",
   "execution_count": 54,
   "id": "d0016c2c-2b98-46f7-a101-2869c4715428",
   "metadata": {},
   "outputs": [],
   "source": [
    "#Evalualo"
   ]
  },
  {
   "cell_type": "code",
   "execution_count": 55,
   "id": "b2bbac74-272a-4846-abd1-df9545267bc0",
   "metadata": {},
   "outputs": [],
   "source": [
    "#Predict al primer bache\n"
   ]
  },
  {
   "cell_type": "code",
   "execution_count": 56,
   "id": "a1f094bb-55fb-4e1c-b2a6-e19511ae5a86",
   "metadata": {},
   "outputs": [],
   "source": [
    "#La realidad de los labels"
   ]
  },
  {
   "cell_type": "markdown",
   "id": "89059924-fe47-417d-aea1-fd59b8f09c77",
   "metadata": {},
   "source": [
    "## <span style=\"color:green\">7. Encoder - Decoder para Traducción</span>"
   ]
  },
  {
   "cell_type": "code",
   "execution_count": 57,
   "id": "098758e3-8880-4343-a308-86b671e1b3d6",
   "metadata": {},
   "outputs": [],
   "source": [
    "#Importa IO y lee el texto de traducciones inglés y español"
   ]
  },
  {
   "cell_type": "code",
   "execution_count": null,
   "id": "4747bf65-45d3-4e68-8cbc-7afb130b9a30",
   "metadata": {},
   "outputs": [],
   "source": []
  },
  {
   "cell_type": "code",
   "execution_count": 58,
   "id": "5dd02e24-a948-4449-8e3f-72d708040737",
   "metadata": {},
   "outputs": [],
   "source": [
    "#Traite numpy y quita los caracteres superfluos en español. Arma las parejas y barajealas. Separalas en oraciones en, oraciones es"
   ]
  },
  {
   "cell_type": "code",
   "execution_count": 59,
   "id": "3d6e158a-506e-4b3d-8db8-2eb78f47be50",
   "metadata": {},
   "outputs": [],
   "source": [
    "#Imprime 3 oraciones de inglés/español"
   ]
  },
  {
   "cell_type": "code",
   "execution_count": 60,
   "id": "4f581b8a-f6f4-4a7d-aa25-fb5cfa57639f",
   "metadata": {},
   "outputs": [],
   "source": [
    "#Vocab Size de 1000 y max length de 50"
   ]
  },
  {
   "cell_type": "code",
   "execution_count": 61,
   "id": "3204071f-a932-4dda-a9b0-6761c4eaf0cb",
   "metadata": {},
   "outputs": [],
   "source": [
    "#Convierte ingles a números"
   ]
  },
  {
   "cell_type": "code",
   "execution_count": 62,
   "id": "0e882f76-69a5-42dc-a222-4ada29424f8c",
   "metadata": {},
   "outputs": [],
   "source": [
    "#Convierte Español a números"
   ]
  },
  {
   "cell_type": "code",
   "execution_count": 63,
   "id": "0d4630ba-2934-4aee-961e-766ddbd29836",
   "metadata": {},
   "outputs": [],
   "source": [
    "#Usa Adapt para computar un vocabulario de strings desde los tokens en tu vocabulario vectorizado (se tarda)"
   ]
  },
  {
   "cell_type": "code",
   "execution_count": null,
   "id": "22bb8763-e93f-4b82-8732-b0e9d1e4ec48",
   "metadata": {},
   "outputs": [],
   "source": []
  },
  {
   "cell_type": "code",
   "execution_count": 64,
   "id": "99376c61-d1b9-447b-91d1-0cd770380c4b",
   "metadata": {},
   "outputs": [],
   "source": [
    "#Regresa los 10 tokens mas usados de la capa de ingles"
   ]
  },
  {
   "cell_type": "code",
   "execution_count": 65,
   "id": "6e3b557b-5438-4bbe-8054-bf1803f941ed",
   "metadata": {},
   "outputs": [],
   "source": [
    "#Regresa los 10 tokens mas usados de la capa de español"
   ]
  },
  {
   "cell_type": "code",
   "execution_count": 66,
   "id": "7b222e2a-aecb-4d01-8371-d8856096ca70",
   "metadata": {},
   "outputs": [],
   "source": [
    "#Define tus sets de train, validación, train y validación para el decoder, y las Ys"
   ]
  },
  {
   "cell_type": "code",
   "execution_count": 67,
   "id": "76e1eed4-739a-403e-bd1e-3a8285d06a42",
   "metadata": {},
   "outputs": [],
   "source": [
    "#Define las capas de entradas del encoder y del decoder"
   ]
  },
  {
   "cell_type": "code",
   "execution_count": 68,
   "id": "86314c27-91d9-4ac4-ac8b-e269160b2431",
   "metadata": {},
   "outputs": [],
   "source": [
    "#Ahora asignale tus textos vectorizados a esas capas nuevas"
   ]
  },
  {
   "cell_type": "code",
   "execution_count": 69,
   "id": "60f8391f-9da9-4087-9d55-0bae63a50a9c",
   "metadata": {},
   "outputs": [],
   "source": [
    "#Prepara una capa de embedding cada uno(decoder y encoder)"
   ]
  },
  {
   "cell_type": "code",
   "execution_count": 70,
   "id": "80ca8fa1-dd2e-41a0-ae52-743c6cd08266",
   "metadata": {},
   "outputs": [],
   "source": [
    "#Y ahora mete tus input_ids a la capa de embedding"
   ]
  },
  {
   "cell_type": "code",
   "execution_count": 71,
   "id": "04feddfe-843d-495c-a3b5-6e102c00ae98",
   "metadata": {},
   "outputs": [],
   "source": [
    "#Define el encoder como 1 sola capa LSTM de 512 neuronas, pasa tus embeddings por esa capa ye scupe los outputs y el state"
   ]
  },
  {
   "cell_type": "code",
   "execution_count": 72,
   "id": "d07a8e53-daac-4336-b526-a637c6e654b6",
   "metadata": {},
   "outputs": [],
   "source": [
    "#Repite el proceso correspondiente para el decoder"
   ]
  },
  {
   "cell_type": "code",
   "execution_count": 73,
   "id": "97154a82-e9c3-4777-85ae-fa4b5633800f",
   "metadata": {},
   "outputs": [],
   "source": [
    "#La capa de salida será una capa Densa del mismo tamaño que el vocabulario con activacion softmax, nos escupira la probabilidad Y de alguna palabra tomando los decoder outputs como entrada"
   ]
  },
  {
   "cell_type": "code",
   "execution_count": 74,
   "id": "7c9fcd64-010d-404d-9847-69cc75349a49",
   "metadata": {},
   "outputs": [],
   "source": [
    "#Arma tu modelo"
   ]
  },
  {
   "cell_type": "code",
   "execution_count": 75,
   "id": "d869b8f9-e171-4738-8815-206f9c0ef7ca",
   "metadata": {},
   "outputs": [],
   "source": [
    "#Compila"
   ]
  },
  {
   "cell_type": "code",
   "execution_count": 76,
   "id": "d0de14d8-3fcc-44ed-8743-0fccb530cfdc",
   "metadata": {},
   "outputs": [],
   "source": [
    "#Arma un checkpoint para guardar el modelo"
   ]
  },
  {
   "cell_type": "code",
   "execution_count": 77,
   "id": "a665ee26-17f5-4a32-b1a6-266660f40efc",
   "metadata": {},
   "outputs": [],
   "source": [
    "#Ejecuta a 10 epocas, nota que tienes que meter 2 sets de entrenamiento y validación para X (enc y dec) - se va a tardar como 20 minutos por epoca sin GPU! (1 min sin gpu)"
   ]
  },
  {
   "cell_type": "code",
   "execution_count": 78,
   "id": "69689e6a-abb1-4c7b-944a-1a34d9c5ea4b",
   "metadata": {},
   "outputs": [],
   "source": [
    "# Vamos ahora a armar el traductor"
   ]
  },
  {
   "cell_type": "code",
   "execution_count": 79,
   "id": "5a5fa37f-ada9-4dbd-bae1-149af5b1a128",
   "metadata": {},
   "outputs": [],
   "source": [
    "#Prueba con i like soccer"
   ]
  },
  {
   "cell_type": "code",
   "execution_count": 80,
   "id": "841564b5-ca95-4ff5-8653-e4349ba227ac",
   "metadata": {},
   "outputs": [],
   "source": [
    "#Prueba con una oración larga como i like soccer and going to the beach"
   ]
  },
  {
   "cell_type": "markdown",
   "id": "eb62134c-9943-4073-98a6-de12dc63e61a",
   "metadata": {},
   "source": [
    "### <span style=\"color:blue\">7.1 Capas Recurrentes Bidireccionales</span>"
   ]
  },
  {
   "cell_type": "code",
   "execution_count": 81,
   "id": "2acb39f9-ddd3-4f98-b482-c0ce35c118f2",
   "metadata": {},
   "outputs": [],
   "source": [
    "#Arma un modelo secuencial con cuna capa GRU y una capa GRU bidireccional"
   ]
  },
  {
   "cell_type": "markdown",
   "id": "afa2ee8a-07e1-4825-9ed1-979133b304e9",
   "metadata": {},
   "source": [
    "## <span style=\"color:green\">8. Atención</span>"
   ]
  },
  {
   "cell_type": "code",
   "execution_count": 82,
   "id": "0718a589-4611-4aef-b962-4bd5fa3a09cc",
   "metadata": {},
   "outputs": [],
   "source": [
    "#Envuelve tu encoder en una capa bidireccional, como hace ratito"
   ]
  },
  {
   "cell_type": "code",
   "execution_count": 83,
   "id": "0b1d8587-a512-4004-a290-4b77a246d63a",
   "metadata": {},
   "outputs": [],
   "source": [
    "#Vamos a volver a armar esta parte del modelo, casi igualita a la anterior, para que cache nuestra nueva onda bidireccional"
   ]
  },
  {
   "cell_type": "code",
   "execution_count": 84,
   "id": "61aa3d4f-362c-4994-897f-473e9bb55412",
   "metadata": {},
   "outputs": [],
   "source": [
    "#Armamos las capas de atención en keras"
   ]
  },
  {
   "cell_type": "code",
   "execution_count": 85,
   "id": "7be09bf8-f2f9-49f7-9a14-2896a9a6bcf9",
   "metadata": {},
   "outputs": [],
   "source": [
    "#Y terminamos el modelo"
   ]
  },
  {
   "cell_type": "code",
   "execution_count": null,
   "id": "a4a8f68b-f067-4e28-968b-f496d2e6c6a9",
   "metadata": {},
   "outputs": [],
   "source": []
  }
 ],
 "metadata": {
  "kernelspec": {
   "display_name": "Python 3.9.12 ('base')",
   "language": "python",
   "name": "python3"
  },
  "language_info": {
   "codemirror_mode": {
    "name": "ipython",
    "version": 3
   },
   "file_extension": ".py",
   "mimetype": "text/x-python",
   "name": "python",
   "nbconvert_exporter": "python",
   "pygments_lexer": "ipython3",
   "version": "3.9.12"
  },
  "vscode": {
   "interpreter": {
    "hash": "2b01844f640d8b23b6d17c702ba5511fd1079d06a023bf5eea4a54f4db1bc2f6"
   }
  }
 },
 "nbformat": 4,
 "nbformat_minor": 5
}
